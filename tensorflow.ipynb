{
 "cells": [
  {
   "cell_type": "code",
   "execution_count": 4,
   "metadata": {},
   "outputs": [
    {
     "name": "stdout",
     "output_type": "stream",
     "text": [
      "<tensorflow.python.util.tf_should_use.ShouldUseWrapper object at 0x000001A934C6B650>\n"
     ]
    }
   ],
   "source": [
    "import tensorflow as tf\n",
    "dtype = tf.float32  # Define the data type\n",
    "size = 3            # Size of the TensorArray\n",
    "element_shape = (3,)  # Shape of elements (e.g., 1D tensor of size 3)\n",
    "tensor_array = tf.TensorArray(dtype=dtype, size=size, dynamic_size=True, element_shape=element_shape)\n",
    "\n",
    "# values of the Array\n",
    "value1 = tf.constant([1.0, 2.0, 3.0], dtype=dtype)\n",
    "value2 = tf.constant([4.0, 5.0, 6.0], dtype=dtype)\n",
    "value3 = tf.constant([7.0, 8.0, 9.0], dtype=dtype)\n",
    "\n",
    "tensor_array = tensor_array.write(0, value1)\n",
    "tensor_array = tensor_array.write(1, value2)\n",
    "tensor_array = tensor_array.write(2, value3)\n",
    "\n",
    "# Print the Array \n",
    "print(tensor_array) "
   ]
  },
  {
   "cell_type": "code",
   "execution_count": 6,
   "metadata": {},
   "outputs": [
    {
     "name": "stdout",
     "output_type": "stream",
     "text": [
      "Original Tensor (Float): [1.5 2.5 3.5]\n",
      "Converted Tensor (Int): [1 2 3]\n"
     ]
    }
   ],
   "source": [
    "import tensorflow as tf\n",
    "# Demonstrate changing the data type of a tensor\n",
    "original_tensor = tf.constant([1.5, 2.5, 3.5], dtype=tf.float32)\n",
    "converted_tensor = tf.cast(original_tensor, dtype=tf.int32)\n",
    "\n",
    "print(\"Original Tensor (Float):\", original_tensor.numpy())\n",
    "print(\"Converted Tensor (Int):\", converted_tensor.numpy()) \n"
   ]
  },
  {
   "cell_type": "code",
   "execution_count": null,
   "metadata": {},
   "outputs": [],
   "source": []
  }
 ],
 "metadata": {
  "kernelspec": {
   "display_name": "Python 3",
   "language": "python",
   "name": "python3"
  },
  "language_info": {
   "codemirror_mode": {
    "name": "ipython",
    "version": 3
   },
   "file_extension": ".py",
   "mimetype": "text/x-python",
   "name": "python",
   "nbconvert_exporter": "python",
   "pygments_lexer": "ipython3",
   "version": "3.12.4"
  }
 },
 "nbformat": 4,
 "nbformat_minor": 2
}
